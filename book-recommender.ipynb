{
 "cells": [
  {
   "cell_type": "code",
   "execution_count": 2,
   "metadata": {},
   "outputs": [],
   "source": [
    "import seaborn as sns\n",
    "import numpy as np\n",
    "import pandas as pd\n",
    "pd.plotting.register_matplotlib_converters()\n",
    "import matplotlib.pyplot as plt\n",
    "\n",
    "#Imports to visualize data on a map\n",
    "import math\n",
    "import geopandas as gpd\n",
    "import folium\n",
    "from folium import Choropleth, Circle, Marker\n",
    "from folium.plugins import HeatMap, MarkerCluster\n",
    "from geopandas.tools import geocode\n",
    "\n",
    "# Function for displaying the map\n",
    "def embed_map(m, file_name):\n",
    "    from IPython.display import IFrame\n",
    "    m.save(file_name)\n",
    "    return IFrame(file_name, width='100%', height='700px')"
   ]
  },
  {
   "cell_type": "markdown",
   "metadata": {},
   "source": [
    "# Data\n",
    "We use three datasets: books, users and ratings.\n",
    "<br>Book-Crossing Datasets are provided by Cai-Nicolas Ziegler, DBIS Freiburg"
   ]
  },
  {
   "cell_type": "code",
   "execution_count": 3,
   "metadata": {
    "scrolled": true
   },
   "outputs": [
    {
     "name": "stderr",
     "output_type": "stream",
     "text": [
      "b'Skipping line 6452: expected 8 fields, saw 9\\nSkipping line 43667: expected 8 fields, saw 10\\nSkipping line 51751: expected 8 fields, saw 9\\nSkipping line 92038: expected 8 fields, saw 9\\nSkipping line 104319: expected 8 fields, saw 9\\nSkipping line 121768: expected 8 fields, saw 9\\nSkipping line 144058: expected 8 fields, saw 9\\nSkipping line 150789: expected 8 fields, saw 9\\nSkipping line 157128: expected 8 fields, saw 9\\nSkipping line 180189: expected 8 fields, saw 9\\nSkipping line 185738: expected 8 fields, saw 9\\nSkipping line 209388: expected 8 fields, saw 9\\nSkipping line 220626: expected 8 fields, saw 9\\nSkipping line 227933: expected 8 fields, saw 11\\nSkipping line 228957: expected 8 fields, saw 10\\nSkipping line 245933: expected 8 fields, saw 9\\nSkipping line 251296: expected 8 fields, saw 9\\nSkipping line 259941: expected 8 fields, saw 9\\nSkipping line 261529: expected 8 fields, saw 9\\n'\n"
     ]
    }
   ],
   "source": [
    "books = pd.read_csv(\"BX-Books.csv\", sep=';', error_bad_lines=False, encoding=\"latin-1\", warn_bad_lines=True, low_memory=False)\n",
    "users = pd.read_csv(\"BX-Users.csv\", sep=';', error_bad_lines=False, encoding=\"latin-1\", warn_bad_lines=True, low_memory=False)\n",
    "ratings = pd.read_csv(\"BX-Book-Ratings.csv\", sep=';', error_bad_lines=False, encoding=\"latin-1\", warn_bad_lines=True, low_memory=False)"
   ]
  },
  {
   "cell_type": "markdown",
   "metadata": {},
   "source": [
    "# Books dataset"
   ]
  },
  {
   "cell_type": "code",
   "execution_count": 4,
   "metadata": {},
   "outputs": [
    {
     "name": "stdout",
     "output_type": "stream",
     "text": [
      "Shape and columns of the books dataset: \n",
      " (271360, 8) \n",
      " Index(['ISBN', 'Book-Title', 'Book-Author', 'Year-Of-Publication', 'Publisher',\n",
      "       'Image-URL-S', 'Image-URL-M', 'Image-URL-L'],\n",
      "      dtype='object')\n"
     ]
    }
   ],
   "source": [
    "print(\"Shape and columns of the books dataset: \\n\",books.shape,\"\\n\", books.columns)"
   ]
  },
  {
   "cell_type": "code",
   "execution_count": 5,
   "metadata": {},
   "outputs": [
    {
     "data": {
      "text/html": [
       "<div>\n",
       "<style scoped>\n",
       "    .dataframe tbody tr th:only-of-type {\n",
       "        vertical-align: middle;\n",
       "    }\n",
       "\n",
       "    .dataframe tbody tr th {\n",
       "        vertical-align: top;\n",
       "    }\n",
       "\n",
       "    .dataframe thead th {\n",
       "        text-align: right;\n",
       "    }\n",
       "</style>\n",
       "<table border=\"1\" class=\"dataframe\">\n",
       "  <thead>\n",
       "    <tr style=\"text-align: right;\">\n",
       "      <th></th>\n",
       "      <th>ISBN</th>\n",
       "      <th>Book-Title</th>\n",
       "      <th>Book-Author</th>\n",
       "      <th>Year-Of-Publication</th>\n",
       "      <th>Publisher</th>\n",
       "      <th>Image-URL-S</th>\n",
       "      <th>Image-URL-M</th>\n",
       "      <th>Image-URL-L</th>\n",
       "    </tr>\n",
       "  </thead>\n",
       "  <tbody>\n",
       "    <tr>\n",
       "      <th>0</th>\n",
       "      <td>0195153448</td>\n",
       "      <td>Classical Mythology</td>\n",
       "      <td>Mark P. O. Morford</td>\n",
       "      <td>2002</td>\n",
       "      <td>Oxford University Press</td>\n",
       "      <td>http://images.amazon.com/images/P/0195153448.0...</td>\n",
       "      <td>http://images.amazon.com/images/P/0195153448.0...</td>\n",
       "      <td>http://images.amazon.com/images/P/0195153448.0...</td>\n",
       "    </tr>\n",
       "    <tr>\n",
       "      <th>1</th>\n",
       "      <td>0002005018</td>\n",
       "      <td>Clara Callan</td>\n",
       "      <td>Richard Bruce Wright</td>\n",
       "      <td>2001</td>\n",
       "      <td>HarperFlamingo Canada</td>\n",
       "      <td>http://images.amazon.com/images/P/0002005018.0...</td>\n",
       "      <td>http://images.amazon.com/images/P/0002005018.0...</td>\n",
       "      <td>http://images.amazon.com/images/P/0002005018.0...</td>\n",
       "    </tr>\n",
       "    <tr>\n",
       "      <th>2</th>\n",
       "      <td>0060973129</td>\n",
       "      <td>Decision in Normandy</td>\n",
       "      <td>Carlo D'Este</td>\n",
       "      <td>1991</td>\n",
       "      <td>HarperPerennial</td>\n",
       "      <td>http://images.amazon.com/images/P/0060973129.0...</td>\n",
       "      <td>http://images.amazon.com/images/P/0060973129.0...</td>\n",
       "      <td>http://images.amazon.com/images/P/0060973129.0...</td>\n",
       "    </tr>\n",
       "    <tr>\n",
       "      <th>3</th>\n",
       "      <td>0374157065</td>\n",
       "      <td>Flu: The Story of the Great Influenza Pandemic...</td>\n",
       "      <td>Gina Bari Kolata</td>\n",
       "      <td>1999</td>\n",
       "      <td>Farrar Straus Giroux</td>\n",
       "      <td>http://images.amazon.com/images/P/0374157065.0...</td>\n",
       "      <td>http://images.amazon.com/images/P/0374157065.0...</td>\n",
       "      <td>http://images.amazon.com/images/P/0374157065.0...</td>\n",
       "    </tr>\n",
       "    <tr>\n",
       "      <th>4</th>\n",
       "      <td>0393045218</td>\n",
       "      <td>The Mummies of Urumchi</td>\n",
       "      <td>E. J. W. Barber</td>\n",
       "      <td>1999</td>\n",
       "      <td>W. W. Norton &amp;amp; Company</td>\n",
       "      <td>http://images.amazon.com/images/P/0393045218.0...</td>\n",
       "      <td>http://images.amazon.com/images/P/0393045218.0...</td>\n",
       "      <td>http://images.amazon.com/images/P/0393045218.0...</td>\n",
       "    </tr>\n",
       "  </tbody>\n",
       "</table>\n",
       "</div>"
      ],
      "text/plain": [
       "         ISBN                                         Book-Title  \\\n",
       "0  0195153448                                Classical Mythology   \n",
       "1  0002005018                                       Clara Callan   \n",
       "2  0060973129                               Decision in Normandy   \n",
       "3  0374157065  Flu: The Story of the Great Influenza Pandemic...   \n",
       "4  0393045218                             The Mummies of Urumchi   \n",
       "\n",
       "            Book-Author Year-Of-Publication                   Publisher  \\\n",
       "0    Mark P. O. Morford                2002     Oxford University Press   \n",
       "1  Richard Bruce Wright                2001       HarperFlamingo Canada   \n",
       "2          Carlo D'Este                1991             HarperPerennial   \n",
       "3      Gina Bari Kolata                1999        Farrar Straus Giroux   \n",
       "4       E. J. W. Barber                1999  W. W. Norton &amp; Company   \n",
       "\n",
       "                                         Image-URL-S  \\\n",
       "0  http://images.amazon.com/images/P/0195153448.0...   \n",
       "1  http://images.amazon.com/images/P/0002005018.0...   \n",
       "2  http://images.amazon.com/images/P/0060973129.0...   \n",
       "3  http://images.amazon.com/images/P/0374157065.0...   \n",
       "4  http://images.amazon.com/images/P/0393045218.0...   \n",
       "\n",
       "                                         Image-URL-M  \\\n",
       "0  http://images.amazon.com/images/P/0195153448.0...   \n",
       "1  http://images.amazon.com/images/P/0002005018.0...   \n",
       "2  http://images.amazon.com/images/P/0060973129.0...   \n",
       "3  http://images.amazon.com/images/P/0374157065.0...   \n",
       "4  http://images.amazon.com/images/P/0393045218.0...   \n",
       "\n",
       "                                         Image-URL-L  \n",
       "0  http://images.amazon.com/images/P/0195153448.0...  \n",
       "1  http://images.amazon.com/images/P/0002005018.0...  \n",
       "2  http://images.amazon.com/images/P/0060973129.0...  \n",
       "3  http://images.amazon.com/images/P/0374157065.0...  \n",
       "4  http://images.amazon.com/images/P/0393045218.0...  "
      ]
     },
     "execution_count": 5,
     "metadata": {},
     "output_type": "execute_result"
    }
   ],
   "source": [
    "books.head()"
   ]
  },
  {
   "cell_type": "markdown",
   "metadata": {},
   "source": [
    "Let's see how many nans are in the books dataset  "
   ]
  },
  {
   "cell_type": "code",
   "execution_count": 6,
   "metadata": {},
   "outputs": [
    {
     "data": {
      "text/plain": [
       "ISBN                   0\n",
       "Book-Title             0\n",
       "Book-Author            1\n",
       "Year-Of-Publication    0\n",
       "Publisher              2\n",
       "Image-URL-S            0\n",
       "Image-URL-M            0\n",
       "Image-URL-L            3\n",
       "dtype: int64"
      ]
     },
     "execution_count": 6,
     "metadata": {},
     "output_type": "execute_result"
    }
   ],
   "source": [
    "books.isnull().sum()"
   ]
  },
  {
   "cell_type": "markdown",
   "metadata": {},
   "source": [
    "Having a look at the only row without author:"
   ]
  },
  {
   "cell_type": "code",
   "execution_count": 7,
   "metadata": {},
   "outputs": [
    {
     "data": {
      "text/html": [
       "<div>\n",
       "<style scoped>\n",
       "    .dataframe tbody tr th:only-of-type {\n",
       "        vertical-align: middle;\n",
       "    }\n",
       "\n",
       "    .dataframe tbody tr th {\n",
       "        vertical-align: top;\n",
       "    }\n",
       "\n",
       "    .dataframe thead th {\n",
       "        text-align: right;\n",
       "    }\n",
       "</style>\n",
       "<table border=\"1\" class=\"dataframe\">\n",
       "  <thead>\n",
       "    <tr style=\"text-align: right;\">\n",
       "      <th></th>\n",
       "      <th>ISBN</th>\n",
       "      <th>Book-Title</th>\n",
       "      <th>Book-Author</th>\n",
       "      <th>Year-Of-Publication</th>\n",
       "      <th>Publisher</th>\n",
       "      <th>Image-URL-S</th>\n",
       "      <th>Image-URL-M</th>\n",
       "      <th>Image-URL-L</th>\n",
       "    </tr>\n",
       "  </thead>\n",
       "  <tbody>\n",
       "    <tr>\n",
       "      <th>187689</th>\n",
       "      <td>9627982032</td>\n",
       "      <td>The Credit Suisse Guide to Managing Your Perso...</td>\n",
       "      <td>NaN</td>\n",
       "      <td>1995</td>\n",
       "      <td>Edinburgh Financial Publishing</td>\n",
       "      <td>http://images.amazon.com/images/P/9627982032.0...</td>\n",
       "      <td>http://images.amazon.com/images/P/9627982032.0...</td>\n",
       "      <td>http://images.amazon.com/images/P/9627982032.0...</td>\n",
       "    </tr>\n",
       "  </tbody>\n",
       "</table>\n",
       "</div>"
      ],
      "text/plain": [
       "              ISBN                                         Book-Title  \\\n",
       "187689  9627982032  The Credit Suisse Guide to Managing Your Perso...   \n",
       "\n",
       "       Book-Author Year-Of-Publication                       Publisher  \\\n",
       "187689         NaN                1995  Edinburgh Financial Publishing   \n",
       "\n",
       "                                              Image-URL-S  \\\n",
       "187689  http://images.amazon.com/images/P/9627982032.0...   \n",
       "\n",
       "                                              Image-URL-M  \\\n",
       "187689  http://images.amazon.com/images/P/9627982032.0...   \n",
       "\n",
       "                                              Image-URL-L  \n",
       "187689  http://images.amazon.com/images/P/9627982032.0...  "
      ]
     },
     "execution_count": 7,
     "metadata": {},
     "output_type": "execute_result"
    }
   ],
   "source": [
    "books.iloc[books[books[\"Book-Author\"].isnull()].index,:]"
   ]
  },
  {
   "cell_type": "markdown",
   "metadata": {},
   "source": [
    "The ISBN of this books has a nan author when searching in Internet, so we will leave this entry as is.\n",
    "<br> Now let's a look at the rows with nan publishers:"
   ]
  },
  {
   "cell_type": "code",
   "execution_count": 8,
   "metadata": {},
   "outputs": [
    {
     "data": {
      "text/html": [
       "<div>\n",
       "<style scoped>\n",
       "    .dataframe tbody tr th:only-of-type {\n",
       "        vertical-align: middle;\n",
       "    }\n",
       "\n",
       "    .dataframe tbody tr th {\n",
       "        vertical-align: top;\n",
       "    }\n",
       "\n",
       "    .dataframe thead th {\n",
       "        text-align: right;\n",
       "    }\n",
       "</style>\n",
       "<table border=\"1\" class=\"dataframe\">\n",
       "  <thead>\n",
       "    <tr style=\"text-align: right;\">\n",
       "      <th></th>\n",
       "      <th>ISBN</th>\n",
       "      <th>Book-Title</th>\n",
       "      <th>Book-Author</th>\n",
       "      <th>Year-Of-Publication</th>\n",
       "      <th>Publisher</th>\n",
       "      <th>Image-URL-S</th>\n",
       "      <th>Image-URL-M</th>\n",
       "      <th>Image-URL-L</th>\n",
       "    </tr>\n",
       "  </thead>\n",
       "  <tbody>\n",
       "    <tr>\n",
       "      <th>128890</th>\n",
       "      <td>193169656X</td>\n",
       "      <td>Tyrant Moon</td>\n",
       "      <td>Elaine Corvidae</td>\n",
       "      <td>2002</td>\n",
       "      <td>NaN</td>\n",
       "      <td>http://images.amazon.com/images/P/193169656X.0...</td>\n",
       "      <td>http://images.amazon.com/images/P/193169656X.0...</td>\n",
       "      <td>http://images.amazon.com/images/P/193169656X.0...</td>\n",
       "    </tr>\n",
       "    <tr>\n",
       "      <th>129037</th>\n",
       "      <td>1931696993</td>\n",
       "      <td>Finders Keepers</td>\n",
       "      <td>Linnea Sinclair</td>\n",
       "      <td>2001</td>\n",
       "      <td>NaN</td>\n",
       "      <td>http://images.amazon.com/images/P/1931696993.0...</td>\n",
       "      <td>http://images.amazon.com/images/P/1931696993.0...</td>\n",
       "      <td>http://images.amazon.com/images/P/1931696993.0...</td>\n",
       "    </tr>\n",
       "  </tbody>\n",
       "</table>\n",
       "</div>"
      ],
      "text/plain": [
       "              ISBN       Book-Title      Book-Author Year-Of-Publication  \\\n",
       "128890  193169656X      Tyrant Moon  Elaine Corvidae                2002   \n",
       "129037  1931696993  Finders Keepers  Linnea Sinclair                2001   \n",
       "\n",
       "       Publisher                                        Image-URL-S  \\\n",
       "128890       NaN  http://images.amazon.com/images/P/193169656X.0...   \n",
       "129037       NaN  http://images.amazon.com/images/P/1931696993.0...   \n",
       "\n",
       "                                              Image-URL-M  \\\n",
       "128890  http://images.amazon.com/images/P/193169656X.0...   \n",
       "129037  http://images.amazon.com/images/P/1931696993.0...   \n",
       "\n",
       "                                              Image-URL-L  \n",
       "128890  http://images.amazon.com/images/P/193169656X.0...  \n",
       "129037  http://images.amazon.com/images/P/1931696993.0...  "
      ]
     },
     "execution_count": 8,
     "metadata": {},
     "output_type": "execute_result"
    }
   ],
   "source": [
    "books.iloc[books[books[\"Publisher\"].isnull()].index,:]"
   ]
  },
  {
   "cell_type": "markdown",
   "metadata": {},
   "source": [
    "Publisher information could be found for the \"Tyrant Moon\" but for \"Finders Keepers\" the pubishers for that edition is na on the Internet. \n",
    "<br>Let's include the publisher data of \"Tyrant Moon\"."
   ]
  },
  {
   "cell_type": "code",
   "execution_count": 9,
   "metadata": {},
   "outputs": [
    {
     "name": "stdout",
     "output_type": "stream",
     "text": [
      "ISBN                                                          193169656X\n",
      "Book-Title                                                   Tyrant Moon\n",
      "Book-Author                                              Elaine Corvidae\n",
      "Year-Of-Publication                                                 2002\n",
      "Publisher                                                     NovelBooks\n",
      "Image-URL-S            http://images.amazon.com/images/P/193169656X.0...\n",
      "Image-URL-M            http://images.amazon.com/images/P/193169656X.0...\n",
      "Image-URL-L            http://images.amazon.com/images/P/193169656X.0...\n",
      "Name: 128890, dtype: object\n"
     ]
    }
   ],
   "source": [
    "books.at[128890,\"Publisher\"]=\"NovelBooks\"\n",
    "print(books.iloc[128890,:])"
   ]
  },
  {
   "cell_type": "markdown",
   "metadata": {},
   "source": [
    "**Visualization of the books dataset**"
   ]
  },
  {
   "cell_type": "markdown",
   "metadata": {},
   "source": [
    "**Year of publication distribution:**\n",
    "<br> First we check if all values are integers for the year of publication.\n",
    "<br> We found three books where the information is shifted. The author was not separated correctly due to the chars \\\\\" before the separator \\;\n",
    "<br> The three entries with string inputs will be skipped for visualization as it is just 0.001% of the available data.\n",
    "<br> On the year of publication histogram we can observe that a peak amount of the books in the dataset were published between 1990 and 2000."
   ]
  },
  {
   "cell_type": "code",
   "execution_count": 10,
   "metadata": {},
   "outputs": [
    {
     "data": {
      "text/html": [
       "<div>\n",
       "<style scoped>\n",
       "    .dataframe tbody tr th:only-of-type {\n",
       "        vertical-align: middle;\n",
       "    }\n",
       "\n",
       "    .dataframe tbody tr th {\n",
       "        vertical-align: top;\n",
       "    }\n",
       "\n",
       "    .dataframe thead th {\n",
       "        text-align: right;\n",
       "    }\n",
       "</style>\n",
       "<table border=\"1\" class=\"dataframe\">\n",
       "  <thead>\n",
       "    <tr style=\"text-align: right;\">\n",
       "      <th></th>\n",
       "      <th>ISBN</th>\n",
       "      <th>Book-Title</th>\n",
       "      <th>Book-Author</th>\n",
       "      <th>Year-Of-Publication</th>\n",
       "      <th>Publisher</th>\n",
       "      <th>Image-URL-S</th>\n",
       "      <th>Image-URL-M</th>\n",
       "      <th>Image-URL-L</th>\n",
       "    </tr>\n",
       "  </thead>\n",
       "  <tbody>\n",
       "    <tr>\n",
       "      <th>209538</th>\n",
       "      <td>078946697X</td>\n",
       "      <td>DK Readers: Creating the X-Men, How It All Beg...</td>\n",
       "      <td>2000</td>\n",
       "      <td>DK Publishing Inc</td>\n",
       "      <td>http://images.amazon.com/images/P/078946697X.0...</td>\n",
       "      <td>http://images.amazon.com/images/P/078946697X.0...</td>\n",
       "      <td>http://images.amazon.com/images/P/078946697X.0...</td>\n",
       "      <td>NaN</td>\n",
       "    </tr>\n",
       "    <tr>\n",
       "      <th>220731</th>\n",
       "      <td>2070426769</td>\n",
       "      <td>Peuple du ciel, suivi de 'Les Bergers\\\";Jean-M...</td>\n",
       "      <td>2003</td>\n",
       "      <td>Gallimard</td>\n",
       "      <td>http://images.amazon.com/images/P/2070426769.0...</td>\n",
       "      <td>http://images.amazon.com/images/P/2070426769.0...</td>\n",
       "      <td>http://images.amazon.com/images/P/2070426769.0...</td>\n",
       "      <td>NaN</td>\n",
       "    </tr>\n",
       "    <tr>\n",
       "      <th>221678</th>\n",
       "      <td>0789466953</td>\n",
       "      <td>DK Readers: Creating the X-Men, How Comic Book...</td>\n",
       "      <td>2000</td>\n",
       "      <td>DK Publishing Inc</td>\n",
       "      <td>http://images.amazon.com/images/P/0789466953.0...</td>\n",
       "      <td>http://images.amazon.com/images/P/0789466953.0...</td>\n",
       "      <td>http://images.amazon.com/images/P/0789466953.0...</td>\n",
       "      <td>NaN</td>\n",
       "    </tr>\n",
       "  </tbody>\n",
       "</table>\n",
       "</div>"
      ],
      "text/plain": [
       "              ISBN                                         Book-Title  \\\n",
       "209538  078946697X  DK Readers: Creating the X-Men, How It All Beg...   \n",
       "220731  2070426769  Peuple du ciel, suivi de 'Les Bergers\\\";Jean-M...   \n",
       "221678  0789466953  DK Readers: Creating the X-Men, How Comic Book...   \n",
       "\n",
       "       Book-Author Year-Of-Publication  \\\n",
       "209538        2000   DK Publishing Inc   \n",
       "220731        2003           Gallimard   \n",
       "221678        2000   DK Publishing Inc   \n",
       "\n",
       "                                                Publisher  \\\n",
       "209538  http://images.amazon.com/images/P/078946697X.0...   \n",
       "220731  http://images.amazon.com/images/P/2070426769.0...   \n",
       "221678  http://images.amazon.com/images/P/0789466953.0...   \n",
       "\n",
       "                                              Image-URL-S  \\\n",
       "209538  http://images.amazon.com/images/P/078946697X.0...   \n",
       "220731  http://images.amazon.com/images/P/2070426769.0...   \n",
       "221678  http://images.amazon.com/images/P/0789466953.0...   \n",
       "\n",
       "                                              Image-URL-M Image-URL-L  \n",
       "209538  http://images.amazon.com/images/P/078946697X.0...         NaN  \n",
       "220731  http://images.amazon.com/images/P/2070426769.0...         NaN  \n",
       "221678  http://images.amazon.com/images/P/0789466953.0...         NaN  "
      ]
     },
     "execution_count": 10,
     "metadata": {},
     "output_type": "execute_result"
    }
   ],
   "source": [
    "books.loc[~books[\"Year-Of-Publication\"].astype(str).str.isdigit()]"
   ]
  },
  {
   "cell_type": "code",
   "execution_count": 11,
   "metadata": {},
   "outputs": [
    {
     "name": "stdout",
     "output_type": "stream",
     "text": [
      "['DK Readers: Creating the X-Men, How It All Began (Level 4: Proficient Readers)\\\\\";Michael Teitelbaum\"', 'Peuple du ciel, suivi de \\'Les Bergers\\\\\";Jean-Marie Gustave Le ClÃ?Â©zio\"', 'DK Readers: Creating the X-Men, How Comic Books Come to Life (Level 4: Proficient Readers)\\\\\";James Buckley\"']\n"
     ]
    }
   ],
   "source": [
    "print(list(books[\"Book-Title\"][[209538, 220731, 221678]]))"
   ]
  },
  {
   "cell_type": "code",
   "execution_count": 12,
   "metadata": {},
   "outputs": [
    {
     "name": "stdout",
     "output_type": "stream",
     "text": [
      "Percentage of entries with string data in year of publication: 0.0011055424528301887 %\n"
     ]
    }
   ],
   "source": [
    "print(\"Percentage of entries with string data in year of publication:\",100*(~books[\"Year-Of-Publication\"].astype(str).str.isdigit()).sum()/len(books),\"%\")"
   ]
  },
  {
   "cell_type": "code",
   "execution_count": 13,
   "metadata": {},
   "outputs": [],
   "source": [
    "books_year = books.loc[books[\"Year-Of-Publication\"].astype(str).str.isdigit()]"
   ]
  },
  {
   "cell_type": "code",
   "execution_count": 78,
   "metadata": {},
   "outputs": [
    {
     "data": {
      "text/plain": [
       "numpy.int16"
      ]
     },
     "execution_count": 78,
     "metadata": {},
     "output_type": "execute_result"
    }
   ],
   "source": [
    "books_year.loc[:,\"Year-Of-Publication\"]=pd.to_numeric(books_year[\"Year-Of-Publication\"],downcast='integer')\n",
    "type(books_year[\"Year-Of-Publication\"][0])"
   ]
  },
  {
   "cell_type": "code",
   "execution_count": 15,
   "metadata": {},
   "outputs": [
    {
     "data": {
      "text/plain": [
       "Text(0, 0.5, 'Counts')"
      ]
     },
     "execution_count": 15,
     "metadata": {},
     "output_type": "execute_result"
    },
    {
     "data": {
      "image/png": "[encoded data removed]",
      "text/plain": [
       "<Figure size 432x288 with 1 Axes>"
      ]
     },
     "metadata": {
      "needs_background": "light"
     },
     "output_type": "display_data"
    }
   ],
   "source": [
    "published_plot = sns.distplot(a=books_year[\"Year-Of-Publication\"],hist='true',kde=False,bins=[1960,1970,1980,1990,2000,2020])\n",
    "published_plot.set_title(\"Year of publication distribution\")\n",
    "published_plot.set_ylabel(\"Counts\")"
   ]
  },
  {
   "cell_type": "markdown",
   "metadata": {},
   "source": [
    "**Top 15 most published authors**\n",
    "<br> Visualization of the top 15 most published authors excluding entries with author \"Not Applicable (Na )\" (there are 286 books with Na authors in the original dataset).\n",
    "<br> The most published author is Agatha Christie with 632 books, followed by Shakespeare with 567 books. "
   ]
  },
  {
   "cell_type": "code",
   "execution_count": 16,
   "metadata": {},
   "outputs": [
    {
     "data": {
      "text/plain": [
       "Text(0.5, 0, 'Number of books')"
      ]
     },
     "execution_count": 16,
     "metadata": {},
     "output_type": "execute_result"
    },
    {
     "data": {
      "image/png": "[encoded data removed]",
      "text/plain": [
       "<Figure size 720x432 with 1 Axes>"
      ]
     },
     "metadata": {
      "needs_background": "light"
     },
     "output_type": "display_data"
    }
   ],
   "source": [
    "most_authors = (books[books[\"Book-Author\"] != \"Not Applicable (Na )\"])[\"Book-Author\"].value_counts()[:15]\n",
    "# Set the width and height of the figure\n",
    "plt.figure(figsize=(10,6))\n",
    "\n",
    "# Add title\n",
    "plt.title(\"Top 15 most published authors\")\n",
    "\n",
    "# Bar chart showing average arrival delay for Spirit Airlines flights by month\n",
    "sns.barplot(y= most_authors.index, x=most_authors.values)\n",
    "\n",
    "# Add label for vertical axis\n",
    "plt.ylabel(\"Authors\")\n",
    "plt.xlabel(\"Number of books\")"
   ]
  },
  {
   "cell_type": "code",
   "execution_count": 17,
   "metadata": {},
   "outputs": [
    {
     "data": {
      "text/plain": [
       "Agatha Christie        632\n",
       "William Shakespeare    567\n",
       "Stephen King           524\n",
       "Ann M. Martin          423\n",
       "Carolyn Keene          373\n",
       "Francine Pascal        372\n",
       "Isaac Asimov           330\n",
       "Nora Roberts           315\n",
       "Barbara Cartland       307\n",
       "Charles Dickens        302\n",
       "R. L. Stine            282\n",
       "Mark Twain             231\n",
       "Jane Austen            223\n",
       "Terry Pratchett        220\n",
       "Mary Higgins Clark     218\n",
       "Name: Book-Author, dtype: int64"
      ]
     },
     "execution_count": 17,
     "metadata": {},
     "output_type": "execute_result"
    }
   ],
   "source": [
    "most_authors"
   ]
  },
  {
   "cell_type": "markdown",
   "metadata": {},
   "source": [
    "# Users Data"
   ]
  },
  {
   "cell_type": "code",
   "execution_count": 18,
   "metadata": {},
   "outputs": [
    {
     "name": "stdout",
     "output_type": "stream",
     "text": [
      "Shape and columns of the users dataset: \n",
      " (278858, 3) \n",
      " Index(['User-ID', 'Location', 'Age'], dtype='object')\n"
     ]
    }
   ],
   "source": [
    "print(\"Shape and columns of the users dataset: \\n\",users.shape,\"\\n\", users.columns)"
   ]
  },
  {
   "cell_type": "code",
   "execution_count": 19,
   "metadata": {},
   "outputs": [
    {
     "data": {
      "text/html": [
       "<div>\n",
       "<style scoped>\n",
       "    .dataframe tbody tr th:only-of-type {\n",
       "        vertical-align: middle;\n",
       "    }\n",
       "\n",
       "    .dataframe tbody tr th {\n",
       "        vertical-align: top;\n",
       "    }\n",
       "\n",
       "    .dataframe thead th {\n",
       "        text-align: right;\n",
       "    }\n",
       "</style>\n",
       "<table border=\"1\" class=\"dataframe\">\n",
       "  <thead>\n",
       "    <tr style=\"text-align: right;\">\n",
       "      <th></th>\n",
       "      <th>User-ID</th>\n",
       "      <th>Location</th>\n",
       "      <th>Age</th>\n",
       "    </tr>\n",
       "  </thead>\n",
       "  <tbody>\n",
       "    <tr>\n",
       "      <th>0</th>\n",
       "      <td>1</td>\n",
       "      <td>nyc, new york, usa</td>\n",
       "      <td>NaN</td>\n",
       "    </tr>\n",
       "    <tr>\n",
       "      <th>1</th>\n",
       "      <td>2</td>\n",
       "      <td>stockton, california, usa</td>\n",
       "      <td>18.0</td>\n",
       "    </tr>\n",
       "    <tr>\n",
       "      <th>2</th>\n",
       "      <td>3</td>\n",
       "      <td>moscow, yukon territory, russia</td>\n",
       "      <td>NaN</td>\n",
       "    </tr>\n",
       "    <tr>\n",
       "      <th>3</th>\n",
       "      <td>4</td>\n",
       "      <td>porto, v.n.gaia, portugal</td>\n",
       "      <td>17.0</td>\n",
       "    </tr>\n",
       "    <tr>\n",
       "      <th>4</th>\n",
       "      <td>5</td>\n",
       "      <td>farnborough, hants, united kingdom</td>\n",
       "      <td>NaN</td>\n",
       "    </tr>\n",
       "  </tbody>\n",
       "</table>\n",
       "</div>"
      ],
      "text/plain": [
       "   User-ID                            Location   Age\n",
       "0        1                  nyc, new york, usa   NaN\n",
       "1        2           stockton, california, usa  18.0\n",
       "2        3     moscow, yukon territory, russia   NaN\n",
       "3        4           porto, v.n.gaia, portugal  17.0\n",
       "4        5  farnborough, hants, united kingdom   NaN"
      ]
     },
     "execution_count": 19,
     "metadata": {},
     "output_type": "execute_result"
    }
   ],
   "source": [
    "users.head()"
   ]
  },
  {
   "cell_type": "code",
   "execution_count": 20,
   "metadata": {},
   "outputs": [
    {
     "data": {
      "text/plain": [
       "User-ID          0\n",
       "Location         0\n",
       "Age         110762\n",
       "dtype: int64"
      ]
     },
     "execution_count": 20,
     "metadata": {},
     "output_type": "execute_result"
    }
   ],
   "source": [
    "users.isnull().sum()"
   ]
  },
  {
   "cell_type": "code",
   "execution_count": 21,
   "metadata": {},
   "outputs": [
    {
     "name": "stdout",
     "output_type": "stream",
     "text": [
      "Percentage of users without age data:  39.71985741847105 %\n"
     ]
    }
   ],
   "source": [
    "print(\"Percentage of users without age data: \",format(100*users.Age.isnull().sum()/len(users)),\"%\")"
   ]
  },
  {
   "cell_type": "code",
   "execution_count": 22,
   "metadata": {},
   "outputs": [
    {
     "data": {
      "text/plain": [
       "(168096, 3)"
      ]
     },
     "execution_count": 22,
     "metadata": {},
     "output_type": "execute_result"
    }
   ],
   "source": [
    "users_filtered = users.dropna()\n",
    "users_filtered.shape"
   ]
  },
  {
   "cell_type": "markdown",
   "metadata": {},
   "source": [
    "**Visualization of the users dataset**"
   ]
  },
  {
   "cell_type": "markdown",
   "metadata": {},
   "source": [
    "**Age distribution of users**\n",
    "<br> Taking the rows where age data is available, the distribution by age shows that most active users are in the 20 to 40 years old range. "
   ]
  },
  {
   "cell_type": "code",
   "execution_count": 23,
   "metadata": {},
   "outputs": [
    {
     "data": {
      "text/plain": [
       "Text(0, 0.5, 'Counts')"
      ]
     },
     "execution_count": 23,
     "metadata": {},
     "output_type": "execute_result"
    },
    {
     "data": {
      "image/png": "[encoded data removed]",
      "text/plain": [
       "<Figure size 432x288 with 1 Axes>"
      ]
     },
     "metadata": {
      "needs_background": "light"
     },
     "output_type": "display_data"
    }
   ],
   "source": [
    "age_plot = sns.distplot(a=users_filtered[\"Age\"],hist='true',bins=[0,10,20,30,40,50,60,70,80,90,100],kde=False,)\n",
    "age_plot.set_title(\"Users age distribution\")\n",
    "age_plot.set_ylabel(\"Counts\")"
   ]
  },
  {
   "cell_type": "markdown",
   "metadata": {},
   "source": [
    "**Geographical distribution of users**"
   ]
  },
  {
   "cell_type": "code",
   "execution_count": 24,
   "metadata": {},
   "outputs": [
    {
     "data": {
      "text/plain": [
       "london, england, united kingdom              2506\n",
       "toronto, ontario, canada                     2250\n",
       "sydney, new south wales, australia           1744\n",
       "melbourne, victoria, australia               1708\n",
       "portland, oregon, usa                        1629\n",
       "                                             ... \n",
       "weimar (lahn), idaho, germany                   1\n",
       "lyon, rhône-alpe, france                        1\n",
       "belle rose, louisiana, usa                      1\n",
       "rapallo, italy,                                 1\n",
       "san vicente del raspeig., alicante, spain       1\n",
       "Name: Location, Length: 57339, dtype: int64"
      ]
     },
     "execution_count": 24,
     "metadata": {},
     "output_type": "execute_result"
    }
   ],
   "source": [
    "users.Location.value_counts()"
   ]
  },
  {
   "cell_type": "markdown",
   "metadata": {},
   "source": [
    "We only want to include in the map the country where the user lives.\n",
    "<br> It seems the information in the column Location is separated by commas. \n",
    "<br> We first analyse the cases with the most and the less amount of commas in the available locations."
   ]
  },
  {
   "cell_type": "code",
   "execution_count": 25,
   "metadata": {},
   "outputs": [
    {
     "data": {
      "text/plain": [
       "'bangalore, #341,4main,6cross,2phase,r`nagar,m`nagar,b`lore-10, india'"
      ]
     },
     "execution_count": 25,
     "metadata": {},
     "output_type": "execute_result"
    }
   ],
   "source": [
    "users.Location.iloc[users.Location.str.count(\",\").idxmax()]"
   ]
  },
  {
   "cell_type": "code",
   "execution_count": 26,
   "metadata": {},
   "outputs": [
    {
     "data": {
      "text/plain": [
       "'lawrenceville'"
      ]
     },
     "execution_count": 26,
     "metadata": {},
     "output_type": "execute_result"
    }
   ],
   "source": [
    "users.Location.iloc[users.Location.str.count(\",\").idxmin()]"
   ]
  },
  {
   "cell_type": "code",
   "execution_count": 27,
   "metadata": {},
   "outputs": [
    {
     "data": {
      "text/plain": [
       "0         False\n",
       "1         False\n",
       "2         False\n",
       "3         False\n",
       "4          True\n",
       "          ...  \n",
       "278853    False\n",
       "278854     True\n",
       "278855    False\n",
       "278856    False\n",
       "278857    False\n",
       "Name: Location, Length: 278858, dtype: bool"
      ]
     },
     "execution_count": 27,
     "metadata": {},
     "output_type": "execute_result"
    }
   ],
   "source": [
    "users.Location.str.contains(\"united kingdom\")"
   ]
  },
  {
   "cell_type": "markdown",
   "metadata": {},
   "source": [
    "We create a function to split the information in \"Location\" and keep the words after the last comma which usually corresponds to the country.\n",
    "<br> This information is then added to a new column named \"Country\"."
   ]
  },
  {
   "cell_type": "code",
   "execution_count": 28,
   "metadata": {},
   "outputs": [
    {
     "name": "stdout",
     "output_type": "stream",
     "text": [
      " india\n",
      "lawrenceville\n",
      " united kingdom\n"
     ]
    }
   ],
   "source": [
    "def location_split(string):\n",
    "        return (string.rsplit(\",\",1))[-1] \n",
    "    \n",
    "print(location_split(users.Location.iloc[users.Location.str.count(\",\").idxmax()]))  \n",
    "print(location_split(users.Location.iloc[users.Location.str.count(\",\").idxmin()]))\n",
    "print(location_split(users.Location.iloc[278854]))"
   ]
  },
  {
   "cell_type": "code",
   "execution_count": 29,
   "metadata": {},
   "outputs": [
    {
     "data": {
      "text/html": [
       "<div>\n",
       "<style scoped>\n",
       "    .dataframe tbody tr th:only-of-type {\n",
       "        vertical-align: middle;\n",
       "    }\n",
       "\n",
       "    .dataframe tbody tr th {\n",
       "        vertical-align: top;\n",
       "    }\n",
       "\n",
       "    .dataframe thead th {\n",
       "        text-align: right;\n",
       "    }\n",
       "</style>\n",
       "<table border=\"1\" class=\"dataframe\">\n",
       "  <thead>\n",
       "    <tr style=\"text-align: right;\">\n",
       "      <th></th>\n",
       "      <th>User-ID</th>\n",
       "      <th>Location</th>\n",
       "      <th>Age</th>\n",
       "      <th>Country</th>\n",
       "    </tr>\n",
       "  </thead>\n",
       "  <tbody>\n",
       "    <tr>\n",
       "      <th>0</th>\n",
       "      <td>1</td>\n",
       "      <td>nyc, new york, usa</td>\n",
       "      <td>NaN</td>\n",
       "      <td>usa</td>\n",
       "    </tr>\n",
       "    <tr>\n",
       "      <th>1</th>\n",
       "      <td>2</td>\n",
       "      <td>stockton, california, usa</td>\n",
       "      <td>18.0</td>\n",
       "      <td>usa</td>\n",
       "    </tr>\n",
       "    <tr>\n",
       "      <th>2</th>\n",
       "      <td>3</td>\n",
       "      <td>moscow, yukon territory, russia</td>\n",
       "      <td>NaN</td>\n",
       "      <td>russia</td>\n",
       "    </tr>\n",
       "    <tr>\n",
       "      <th>3</th>\n",
       "      <td>4</td>\n",
       "      <td>porto, v.n.gaia, portugal</td>\n",
       "      <td>17.0</td>\n",
       "      <td>portugal</td>\n",
       "    </tr>\n",
       "    <tr>\n",
       "      <th>4</th>\n",
       "      <td>5</td>\n",
       "      <td>farnborough, hants, united kingdom</td>\n",
       "      <td>NaN</td>\n",
       "      <td>united kingdom</td>\n",
       "    </tr>\n",
       "  </tbody>\n",
       "</table>\n",
       "</div>"
      ],
      "text/plain": [
       "   User-ID                            Location   Age          Country\n",
       "0        1                  nyc, new york, usa   NaN              usa\n",
       "1        2           stockton, california, usa  18.0              usa\n",
       "2        3     moscow, yukon territory, russia   NaN           russia\n",
       "3        4           porto, v.n.gaia, portugal  17.0         portugal\n",
       "4        5  farnborough, hants, united kingdom   NaN   united kingdom"
      ]
     },
     "execution_count": 29,
     "metadata": {},
     "output_type": "execute_result"
    }
   ],
   "source": [
    "users[\"Country\"] = [location_split(x) for x in users.Location]\n",
    "users.head()"
   ]
  },
  {
   "cell_type": "markdown",
   "metadata": {},
   "source": [
    "Users dataset has now a shape of 278858 x 4. We will group by country to see if the dimensionality can be reduced."
   ]
  },
  {
   "cell_type": "code",
   "execution_count": 30,
   "metadata": {},
   "outputs": [],
   "source": [
    "users.Country = users.Country.apply(lambda x: x.strip('\"\\'').lstrip().rstrip())"
   ]
  },
  {
   "cell_type": "code",
   "execution_count": 31,
   "metadata": {},
   "outputs": [
    {
     "data": {
      "text/html": [
       "<div>\n",
       "<style scoped>\n",
       "    .dataframe tbody tr th:only-of-type {\n",
       "        vertical-align: middle;\n",
       "    }\n",
       "\n",
       "    .dataframe tbody tr th {\n",
       "        vertical-align: top;\n",
       "    }\n",
       "\n",
       "    .dataframe thead th {\n",
       "        text-align: right;\n",
       "    }\n",
       "</style>\n",
       "<table border=\"1\" class=\"dataframe\">\n",
       "  <thead>\n",
       "    <tr style=\"text-align: right;\">\n",
       "      <th></th>\n",
       "      <th>User-ID</th>\n",
       "      <th>Location</th>\n",
       "      <th>Age</th>\n",
       "      <th>Country</th>\n",
       "    </tr>\n",
       "  </thead>\n",
       "  <tbody>\n",
       "  </tbody>\n",
       "</table>\n",
       "</div>"
      ],
      "text/plain": [
       "Empty DataFrame\n",
       "Columns: [User-ID, Location, Age, Country]\n",
       "Index: []"
      ]
     },
     "execution_count": 31,
     "metadata": {},
     "output_type": "execute_result"
    }
   ],
   "source": [
    "users.iloc[users[users[\"Country\"].str.endswith(' ')].index,:]"
   ]
  },
  {
   "cell_type": "code",
   "execution_count": 32,
   "metadata": {},
   "outputs": [
    {
     "data": {
      "text/html": [
       "<div>\n",
       "<style scoped>\n",
       "    .dataframe tbody tr th:only-of-type {\n",
       "        vertical-align: middle;\n",
       "    }\n",
       "\n",
       "    .dataframe tbody tr th {\n",
       "        vertical-align: top;\n",
       "    }\n",
       "\n",
       "    .dataframe thead th {\n",
       "        text-align: right;\n",
       "    }\n",
       "</style>\n",
       "<table border=\"1\" class=\"dataframe\">\n",
       "  <thead>\n",
       "    <tr style=\"text-align: right;\">\n",
       "      <th></th>\n",
       "      <th>User-ID</th>\n",
       "      <th>Location</th>\n",
       "      <th>Age</th>\n",
       "      <th>Country</th>\n",
       "    </tr>\n",
       "  </thead>\n",
       "  <tbody>\n",
       "    <tr>\n",
       "      <th>0</th>\n",
       "      <td>1</td>\n",
       "      <td>nyc, new york, usa</td>\n",
       "      <td>NaN</td>\n",
       "      <td>usa</td>\n",
       "    </tr>\n",
       "    <tr>\n",
       "      <th>1</th>\n",
       "      <td>2</td>\n",
       "      <td>stockton, california, usa</td>\n",
       "      <td>18.0</td>\n",
       "      <td>usa</td>\n",
       "    </tr>\n",
       "    <tr>\n",
       "      <th>2</th>\n",
       "      <td>3</td>\n",
       "      <td>moscow, yukon territory, russia</td>\n",
       "      <td>NaN</td>\n",
       "      <td>russia</td>\n",
       "    </tr>\n",
       "    <tr>\n",
       "      <th>3</th>\n",
       "      <td>4</td>\n",
       "      <td>porto, v.n.gaia, portugal</td>\n",
       "      <td>17.0</td>\n",
       "      <td>portugal</td>\n",
       "    </tr>\n",
       "    <tr>\n",
       "      <th>4</th>\n",
       "      <td>5</td>\n",
       "      <td>farnborough, hants, united kingdom</td>\n",
       "      <td>NaN</td>\n",
       "      <td>united kingdom</td>\n",
       "    </tr>\n",
       "  </tbody>\n",
       "</table>\n",
       "</div>"
      ],
      "text/plain": [
       "   User-ID                            Location   Age         Country\n",
       "0        1                  nyc, new york, usa   NaN             usa\n",
       "1        2           stockton, california, usa  18.0             usa\n",
       "2        3     moscow, yukon territory, russia   NaN          russia\n",
       "3        4           porto, v.n.gaia, portugal  17.0        portugal\n",
       "4        5  farnborough, hants, united kingdom   NaN  united kingdom"
      ]
     },
     "execution_count": 32,
     "metadata": {},
     "output_type": "execute_result"
    }
   ],
   "source": [
    "users.head()"
   ]
  },
  {
   "cell_type": "code",
   "execution_count": 33,
   "metadata": {},
   "outputs": [],
   "source": [
    "users_grouped = users.Country.value_counts(ascending=False)"
   ]
  },
  {
   "cell_type": "code",
   "execution_count": 34,
   "metadata": {},
   "outputs": [
    {
     "name": "stdout",
     "output_type": "stream",
     "text": [
      "(631,)\n",
      "<bound method NDFrame.head of usa                 139712\n",
      "canada               21658\n",
      "united kingdom       18556\n",
      "germany              17073\n",
      "spain                13258\n",
      "                     ...  \n",
      "courtenay                1\n",
      "northern ireland         1\n",
      "tdzimi                   1\n",
      "calabria                 1\n",
      "la suisse                1\n",
      "Name: Country, Length: 631, dtype: int64>\n",
      "<class 'pandas.core.series.Series'>\n"
     ]
    }
   ],
   "source": [
    "print(users_grouped.shape)\n",
    "print(users_grouped.head)\n",
    "print(type(users_grouped))"
   ]
  },
  {
   "cell_type": "markdown",
   "metadata": {},
   "source": [
    "Now we define a geocoder to find the geographical coordinates of the countries."
   ]
  },
  {
   "cell_type": "code",
   "execution_count": 35,
   "metadata": {},
   "outputs": [
    {
     "name": "stdout",
     "output_type": "stream",
     "text": [
      "Latitude                            -34.9965\n",
      "Longitude                           -64.9673\n",
      "geometry     POINT (-64.9672817 -34.9964963)\n",
      "dtype: object\n"
     ]
    }
   ],
   "source": [
    "import certifi\n",
    "import ssl\n",
    "import geopy.geocoders\n",
    "from geopy.geocoders import Nominatim\n",
    "ctx = ssl.create_default_context(cafile=certifi.where())\n",
    "geopy.geocoders.options.default_ssl_context = ctx\n",
    "geolocator = Nominatim(scheme='http', user_agent=\"my_books\")\n",
    "from geopy.extra.rate_limiter import RateLimiter\n",
    "geocode = RateLimiter(geolocator.geocode, min_delay_seconds=1.5, max_retries=3,error_wait_seconds=5.0)\n",
    "from geopandas.tools import geocode\n",
    "\n",
    "def my_geocoder(row):\n",
    "    try:\n",
    "        point = geocode(row, provider='nominatim').geometry.iloc[0]\n",
    "        return pd.Series({'Latitude': point.y, 'Longitude': point.x, 'geometry': point})\n",
    "    except:\n",
    "        return None\n",
    "print(my_geocoder(\"argentina\"))"
   ]
  },
  {
   "cell_type": "markdown",
   "metadata": {},
   "source": [
    "Now we obtain the geografical information of each country using the defined geocoder. "
   ]
  },
  {
   "cell_type": "code",
   "execution_count": 36,
   "metadata": {},
   "outputs": [
    {
     "data": {
      "text/html": [
       "<div>\n",
       "<style scoped>\n",
       "    .dataframe tbody tr th:only-of-type {\n",
       "        vertical-align: middle;\n",
       "    }\n",
       "\n",
       "    .dataframe tbody tr th {\n",
       "        vertical-align: top;\n",
       "    }\n",
       "\n",
       "    .dataframe thead th {\n",
       "        text-align: right;\n",
       "    }\n",
       "</style>\n",
       "<table border=\"1\" class=\"dataframe\">\n",
       "  <thead>\n",
       "    <tr style=\"text-align: right;\">\n",
       "      <th></th>\n",
       "      <th>Country</th>\n",
       "      <th>Users</th>\n",
       "    </tr>\n",
       "  </thead>\n",
       "  <tbody>\n",
       "    <tr>\n",
       "      <th>0</th>\n",
       "      <td>usa</td>\n",
       "      <td>139712</td>\n",
       "    </tr>\n",
       "    <tr>\n",
       "      <th>1</th>\n",
       "      <td>canada</td>\n",
       "      <td>21658</td>\n",
       "    </tr>\n",
       "    <tr>\n",
       "      <th>2</th>\n",
       "      <td>united kingdom</td>\n",
       "      <td>18556</td>\n",
       "    </tr>\n",
       "    <tr>\n",
       "      <th>3</th>\n",
       "      <td>germany</td>\n",
       "      <td>17073</td>\n",
       "    </tr>\n",
       "    <tr>\n",
       "      <th>4</th>\n",
       "      <td>spain</td>\n",
       "      <td>13258</td>\n",
       "    </tr>\n",
       "  </tbody>\n",
       "</table>\n",
       "</div>"
      ],
      "text/plain": [
       "          Country   Users\n",
       "0             usa  139712\n",
       "1          canada   21658\n",
       "2  united kingdom   18556\n",
       "3         germany   17073\n",
       "4           spain   13258"
      ]
     },
     "execution_count": 36,
     "metadata": {},
     "output_type": "execute_result"
    }
   ],
   "source": [
    "users_grouped= pd.DataFrame({'Country':users_grouped.index, 'Users':users_grouped.values})\n",
    "users_grouped.head()"
   ]
  },
  {
   "cell_type": "code",
   "execution_count": 37,
   "metadata": {},
   "outputs": [
    {
     "name": "stdout",
     "output_type": "stream",
     "text": [
      "60.538827258320126% of addresses were geocoded!\n"
     ]
    }
   ],
   "source": [
    "users_grouped[['Latitude', 'Longitude', 'geometry']] = users_grouped.apply(lambda x: my_geocoder(x.Country), axis=1)\n",
    "print(\"{}% of addresses were geocoded!\".format(\n",
    "    (1 - sum(np.isnan(users_grouped[\"Latitude\"])) / len(users_grouped)) * 100))"
   ]
  },
  {
   "cell_type": "markdown",
   "metadata": {},
   "source": [
    "Drop users that were not successfully geocoded"
   ]
  },
  {
   "cell_type": "code",
   "execution_count": 38,
   "metadata": {},
   "outputs": [],
   "source": [
    "users_loc_filtered = users_grouped.loc[~np.isnan(users_grouped[\"Latitude\"])]\n",
    "users_loc_filtered = gpd.GeoDataFrame(users_loc_filtered, geometry=users_loc_filtered.geometry)\n",
    "users_loc_filtered.crs = {'init': 'epsg:4326'}"
   ]
  },
  {
   "cell_type": "code",
   "execution_count": 39,
   "metadata": {},
   "outputs": [
    {
     "data": {
      "text/html": [
       "<div>\n",
       "<style scoped>\n",
       "    .dataframe tbody tr th:only-of-type {\n",
       "        vertical-align: middle;\n",
       "    }\n",
       "\n",
       "    .dataframe tbody tr th {\n",
       "        vertical-align: top;\n",
       "    }\n",
       "\n",
       "    .dataframe thead th {\n",
       "        text-align: right;\n",
       "    }\n",
       "</style>\n",
       "<table border=\"1\" class=\"dataframe\">\n",
       "  <thead>\n",
       "    <tr style=\"text-align: right;\">\n",
       "      <th></th>\n",
       "      <th>Country</th>\n",
       "      <th>Users</th>\n",
       "      <th>Latitude</th>\n",
       "      <th>Longitude</th>\n",
       "      <th>geometry</th>\n",
       "    </tr>\n",
       "  </thead>\n",
       "  <tbody>\n",
       "    <tr>\n",
       "      <th>0</th>\n",
       "      <td>usa</td>\n",
       "      <td>139712</td>\n",
       "      <td>39.783730</td>\n",
       "      <td>-100.445882</td>\n",
       "      <td>POINT (-100.44588 39.78373)</td>\n",
       "    </tr>\n",
       "    <tr>\n",
       "      <th>1</th>\n",
       "      <td>canada</td>\n",
       "      <td>21658</td>\n",
       "      <td>61.066692</td>\n",
       "      <td>-107.991707</td>\n",
       "      <td>POINT (-107.99171 61.06669)</td>\n",
       "    </tr>\n",
       "    <tr>\n",
       "      <th>2</th>\n",
       "      <td>united kingdom</td>\n",
       "      <td>18556</td>\n",
       "      <td>54.702354</td>\n",
       "      <td>-3.276575</td>\n",
       "      <td>POINT (-3.27658 54.70235)</td>\n",
       "    </tr>\n",
       "    <tr>\n",
       "      <th>3</th>\n",
       "      <td>germany</td>\n",
       "      <td>17073</td>\n",
       "      <td>51.083420</td>\n",
       "      <td>10.423447</td>\n",
       "      <td>POINT (10.42345 51.08342)</td>\n",
       "    </tr>\n",
       "    <tr>\n",
       "      <th>4</th>\n",
       "      <td>spain</td>\n",
       "      <td>13258</td>\n",
       "      <td>39.326234</td>\n",
       "      <td>-4.838065</td>\n",
       "      <td>POINT (-4.83806 39.32623)</td>\n",
       "    </tr>\n",
       "  </tbody>\n",
       "</table>\n",
       "</div>"
      ],
      "text/plain": [
       "          Country   Users   Latitude   Longitude                     geometry\n",
       "0             usa  139712  39.783730 -100.445882  POINT (-100.44588 39.78373)\n",
       "1          canada   21658  61.066692 -107.991707  POINT (-107.99171 61.06669)\n",
       "2  united kingdom   18556  54.702354   -3.276575    POINT (-3.27658 54.70235)\n",
       "3         germany   17073  51.083420   10.423447    POINT (10.42345 51.08342)\n",
       "4           spain   13258  39.326234   -4.838065    POINT (-4.83806 39.32623)"
      ]
     },
     "execution_count": 39,
     "metadata": {},
     "output_type": "execute_result"
    }
   ],
   "source": [
    "users_loc_filtered.head()"
   ]
  },
  {
   "cell_type": "code",
   "execution_count": 40,
   "metadata": {},
   "outputs": [
    {
     "data": {
      "text/plain": [
       "0.982924672281325"
      ]
     },
     "execution_count": 40,
     "metadata": {},
     "output_type": "execute_result"
    }
   ],
   "source": [
    "users_loc_filtered.head(30).Users.sum()/(users_loc_filtered.Users.sum())"
   ]
  },
  {
   "cell_type": "markdown",
   "metadata": {},
   "source": [
    "Map generation with the information available in users_loc_filtered.\n",
    "<br>On the map, the red circle shows the country with more than 100k users, the blue circles those with 10k up to 100k users and the green circles those with less than 10k users."
   ]
  },
  {
   "cell_type": "code",
   "execution_count": 41,
   "metadata": {
    "scrolled": false
   },
   "outputs": [
    {
     "data": {
      "text/html": [
       "\n",
       "        <iframe\n",
       "            width=\"100%\"\n",
       "            height=\"700px\"\n",
       "            src=\"m_1.html\"\n",
       "            frameborder=\"0\"\n",
       "            allowfullscreen\n",
       "        ></iframe>\n",
       "        "
      ],
      "text/plain": [
       "<IPython.lib.display.IFrame at 0x1252e6c18>"
      ]
     },
     "execution_count": 41,
     "metadata": {},
     "output_type": "execute_result"
    }
   ],
   "source": [
    "# Create a map\n",
    "m_1 = folium.Map(location=[54, 15], tiles='cartodbpositron', zoom_start=5)\n",
    "def color_producer(val):\n",
    "    if val < 10000:\n",
    "        return 'forestgreen'\n",
    "    elif val < 100000:\n",
    "        return 'blue'\n",
    "    else:\n",
    "        return 'red'\n",
    "\n",
    "# Add a circle map to the base map\n",
    "for i in range(0,len(users_loc_filtered.head(80))):\n",
    "    folium.Circle(\n",
    "        location=[users_loc_filtered.head(80).iloc[i]['Latitude'], users_loc_filtered.head(80).iloc[i]['Longitude']],\n",
    "        popup=(users_loc_filtered.head(80).iloc[i]['Users']),\n",
    "        radius=(users_loc_filtered.head(80).iloc[i]['Users']*2000000)/users_loc_filtered.head(80)['Users'].sum(),\n",
    "        color=color_producer(users_loc_filtered.head(80).iloc[i]['Users']),\n",
    "        fill_color=color_producer(users_loc_filtered.head(80).iloc[i]['Users']),\n",
    "        title='Top 80 countries based on number of users').add_to(m_1)\n",
    "        \n",
    "\n",
    "# Display the map\n",
    "embed_map(m_1, 'm_1.html')"
   ]
  },
  {
   "attachments": {},
   "cell_type": "markdown",
   "metadata": {},
   "source": [
    "<img src=\"m_1.png\" width=\"800\" />"
   ]
  },
  {
   "cell_type": "markdown",
   "metadata": {},
   "source": [
    "# Ratings dataset"
   ]
  },
  {
   "cell_type": "code",
   "execution_count": 42,
   "metadata": {},
   "outputs": [
    {
     "name": "stdout",
     "output_type": "stream",
     "text": [
      "Shape and columns of the ratings dataset: \n",
      " (1149780, 3) \n",
      " Index(['User-ID', 'ISBN', 'Book-Rating'], dtype='object')\n"
     ]
    }
   ],
   "source": [
    "print(\"Shape and columns of the ratings dataset: \\n\",ratings.shape,\"\\n\", ratings.columns)"
   ]
  },
  {
   "cell_type": "code",
   "execution_count": 44,
   "metadata": {},
   "outputs": [
    {
     "data": {
      "text/html": [
       "<div>\n",
       "<style scoped>\n",
       "    .dataframe tbody tr th:only-of-type {\n",
       "        vertical-align: middle;\n",
       "    }\n",
       "\n",
       "    .dataframe tbody tr th {\n",
       "        vertical-align: top;\n",
       "    }\n",
       "\n",
       "    .dataframe thead th {\n",
       "        text-align: right;\n",
       "    }\n",
       "</style>\n",
       "<table border=\"1\" class=\"dataframe\">\n",
       "  <thead>\n",
       "    <tr style=\"text-align: right;\">\n",
       "      <th></th>\n",
       "      <th>User-ID</th>\n",
       "      <th>ISBN</th>\n",
       "      <th>Book-Rating</th>\n",
       "    </tr>\n",
       "  </thead>\n",
       "  <tbody>\n",
       "    <tr>\n",
       "      <th>0</th>\n",
       "      <td>276725</td>\n",
       "      <td>034545104X</td>\n",
       "      <td>0</td>\n",
       "    </tr>\n",
       "    <tr>\n",
       "      <th>1</th>\n",
       "      <td>276726</td>\n",
       "      <td>0155061224</td>\n",
       "      <td>5</td>\n",
       "    </tr>\n",
       "    <tr>\n",
       "      <th>2</th>\n",
       "      <td>276727</td>\n",
       "      <td>0446520802</td>\n",
       "      <td>0</td>\n",
       "    </tr>\n",
       "    <tr>\n",
       "      <th>3</th>\n",
       "      <td>276729</td>\n",
       "      <td>052165615X</td>\n",
       "      <td>3</td>\n",
       "    </tr>\n",
       "    <tr>\n",
       "      <th>4</th>\n",
       "      <td>276729</td>\n",
       "      <td>0521795028</td>\n",
       "      <td>6</td>\n",
       "    </tr>\n",
       "  </tbody>\n",
       "</table>\n",
       "</div>"
      ],
      "text/plain": [
       "   User-ID        ISBN  Book-Rating\n",
       "0   276725  034545104X            0\n",
       "1   276726  0155061224            5\n",
       "2   276727  0446520802            0\n",
       "3   276729  052165615X            3\n",
       "4   276729  0521795028            6"
      ]
     },
     "execution_count": 44,
     "metadata": {},
     "output_type": "execute_result"
    }
   ],
   "source": [
    "ratings.head()"
   ]
  },
  {
   "cell_type": "markdown",
   "metadata": {},
   "source": [
    "**Rating distribution**"
   ]
  },
  {
   "cell_type": "code",
   "execution_count": 45,
   "metadata": {},
   "outputs": [
    {
     "data": {
      "text/plain": [
       "False    1149780\n",
       "Name: Book-Rating, dtype: int64"
      ]
     },
     "execution_count": 45,
     "metadata": {},
     "output_type": "execute_result"
    }
   ],
   "source": [
    "np.isnan(ratings[\"Book-Rating\"]).value_counts()"
   ]
  },
  {
   "cell_type": "code",
   "execution_count": 49,
   "metadata": {},
   "outputs": [
    {
     "data": {
      "text/plain": [
       "11676     13602\n",
       "198711     7550\n",
       "153662     6109\n",
       "98391      5891\n",
       "35859      5850\n",
       "          ...  \n",
       "158698        1\n",
       "17920         1\n",
       "277135        1\n",
       "275086        1\n",
       "187812        1\n",
       "Name: User-ID, Length: 105283, dtype: int64"
      ]
     },
     "execution_count": 49,
     "metadata": {},
     "output_type": "execute_result"
    }
   ],
   "source": [
    "ratings[\"User-ID\"].value_counts()"
   ]
  },
  {
   "cell_type": "markdown",
   "metadata": {},
   "source": [
    "We create a new dataframe with the average rating per book, rating count and information about the book. \n",
    "<br> From the resulting dataframe, it is clear that the most rated book is not necessary the best rated. Therefore both informations average_rating and rating_count are important to make a book recommendation."
   ]
  },
  {
   "cell_type": "code",
   "execution_count": 50,
   "metadata": {},
   "outputs": [],
   "source": [
    "average_rating = pd.DataFrame(ratings.groupby(\"ISBN\")[\"Book-Rating\"].mean())\n",
    "average_rating[\"Rating-Count\"] = pd.DataFrame(ratings.groupby(\"ISBN\")[\"Book-Rating\"].count())\n",
    "average_rating = pd.merge(average_rating,books[[\"ISBN\",\"Book-Title\",\"Book-Author\",\"Year-Of-Publication\",\"Publisher\"]],on=\"ISBN\")\n",
    "average_rating = average_rating.rename(columns={\"Book-Rating\":\"Average-Rating\"},errors=\"raise\")"
   ]
  },
  {
   "cell_type": "code",
   "execution_count": 51,
   "metadata": {},
   "outputs": [
    {
     "data": {
      "text/html": [
       "<div>\n",
       "<style scoped>\n",
       "    .dataframe tbody tr th:only-of-type {\n",
       "        vertical-align: middle;\n",
       "    }\n",
       "\n",
       "    .dataframe tbody tr th {\n",
       "        vertical-align: top;\n",
       "    }\n",
       "\n",
       "    .dataframe thead th {\n",
       "        text-align: right;\n",
       "    }\n",
       "</style>\n",
       "<table border=\"1\" class=\"dataframe\">\n",
       "  <thead>\n",
       "    <tr style=\"text-align: right;\">\n",
       "      <th></th>\n",
       "      <th>ISBN</th>\n",
       "      <th>Average-Rating</th>\n",
       "      <th>Rating-Count</th>\n",
       "      <th>Book-Title</th>\n",
       "      <th>Book-Author</th>\n",
       "      <th>Year-Of-Publication</th>\n",
       "      <th>Publisher</th>\n",
       "    </tr>\n",
       "  </thead>\n",
       "  <tbody>\n",
       "    <tr>\n",
       "      <th>215952</th>\n",
       "      <td>0971880107</td>\n",
       "      <td>1.019584</td>\n",
       "      <td>2502</td>\n",
       "      <td>Wild Animus</td>\n",
       "      <td>Rich Shapero</td>\n",
       "      <td>2004</td>\n",
       "      <td>Too Far</td>\n",
       "    </tr>\n",
       "    <tr>\n",
       "      <th>38570</th>\n",
       "      <td>0316666343</td>\n",
       "      <td>4.468726</td>\n",
       "      <td>1295</td>\n",
       "      <td>The Lovely Bones: A Novel</td>\n",
       "      <td>Alice Sebold</td>\n",
       "      <td>2002</td>\n",
       "      <td>Little, Brown</td>\n",
       "    </tr>\n",
       "    <tr>\n",
       "      <th>70798</th>\n",
       "      <td>0385504209</td>\n",
       "      <td>4.652322</td>\n",
       "      <td>883</td>\n",
       "      <td>The Da Vinci Code</td>\n",
       "      <td>Dan Brown</td>\n",
       "      <td>2003</td>\n",
       "      <td>Doubleday</td>\n",
       "    </tr>\n",
       "    <tr>\n",
       "      <th>7344</th>\n",
       "      <td>0060928336</td>\n",
       "      <td>3.448087</td>\n",
       "      <td>732</td>\n",
       "      <td>Divine Secrets of the Ya-Ya Sisterhood: A Novel</td>\n",
       "      <td>Rebecca Wells</td>\n",
       "      <td>1997</td>\n",
       "      <td>Perennial</td>\n",
       "    </tr>\n",
       "    <tr>\n",
       "      <th>32370</th>\n",
       "      <td>0312195516</td>\n",
       "      <td>4.334716</td>\n",
       "      <td>723</td>\n",
       "      <td>The Red Tent (Bestselling Backlist)</td>\n",
       "      <td>Anita Diamant</td>\n",
       "      <td>1998</td>\n",
       "      <td>Picador USA</td>\n",
       "    </tr>\n",
       "    <tr>\n",
       "      <th>87397</th>\n",
       "      <td>044023722X</td>\n",
       "      <td>3.187017</td>\n",
       "      <td>647</td>\n",
       "      <td>A Painted House</td>\n",
       "      <td>John Grisham</td>\n",
       "      <td>2001</td>\n",
       "      <td>Dell Publishing Company</td>\n",
       "    </tr>\n",
       "    <tr>\n",
       "      <th>21342</th>\n",
       "      <td>0142001740</td>\n",
       "      <td>4.219512</td>\n",
       "      <td>615</td>\n",
       "      <td>The Secret Life of Bees</td>\n",
       "      <td>Sue Monk Kidd</td>\n",
       "      <td>2003</td>\n",
       "      <td>Penguin Books</td>\n",
       "    </tr>\n",
       "    <tr>\n",
       "      <th>145042</th>\n",
       "      <td>067976402X</td>\n",
       "      <td>3.255700</td>\n",
       "      <td>614</td>\n",
       "      <td>Snow Falling on Cedars</td>\n",
       "      <td>David Guterson</td>\n",
       "      <td>1995</td>\n",
       "      <td>Vintage Books USA</td>\n",
       "    </tr>\n",
       "    <tr>\n",
       "      <th>133142</th>\n",
       "      <td>0671027360</td>\n",
       "      <td>3.718430</td>\n",
       "      <td>586</td>\n",
       "      <td>Angels &amp;amp; Demons</td>\n",
       "      <td>Dan Brown</td>\n",
       "      <td>2001</td>\n",
       "      <td>Pocket Star</td>\n",
       "    </tr>\n",
       "    <tr>\n",
       "      <th>93847</th>\n",
       "      <td>0446672211</td>\n",
       "      <td>4.105983</td>\n",
       "      <td>585</td>\n",
       "      <td>Where the Heart Is (Oprah's Book Club (Paperba...</td>\n",
       "      <td>Billie Letts</td>\n",
       "      <td>1998</td>\n",
       "      <td>Warner Books</td>\n",
       "    </tr>\n",
       "  </tbody>\n",
       "</table>\n",
       "</div>"
      ],
      "text/plain": [
       "              ISBN  Average-Rating  Rating-Count  \\\n",
       "215952  0971880107        1.019584          2502   \n",
       "38570   0316666343        4.468726          1295   \n",
       "70798   0385504209        4.652322           883   \n",
       "7344    0060928336        3.448087           732   \n",
       "32370   0312195516        4.334716           723   \n",
       "87397   044023722X        3.187017           647   \n",
       "21342   0142001740        4.219512           615   \n",
       "145042  067976402X        3.255700           614   \n",
       "133142  0671027360        3.718430           586   \n",
       "93847   0446672211        4.105983           585   \n",
       "\n",
       "                                               Book-Title     Book-Author  \\\n",
       "215952                                        Wild Animus    Rich Shapero   \n",
       "38570                           The Lovely Bones: A Novel    Alice Sebold   \n",
       "70798                                   The Da Vinci Code       Dan Brown   \n",
       "7344      Divine Secrets of the Ya-Ya Sisterhood: A Novel   Rebecca Wells   \n",
       "32370                 The Red Tent (Bestselling Backlist)   Anita Diamant   \n",
       "87397                                     A Painted House    John Grisham   \n",
       "21342                             The Secret Life of Bees   Sue Monk Kidd   \n",
       "145042                             Snow Falling on Cedars  David Guterson   \n",
       "133142                                Angels &amp; Demons       Dan Brown   \n",
       "93847   Where the Heart Is (Oprah's Book Club (Paperba...    Billie Letts   \n",
       "\n",
       "       Year-Of-Publication                Publisher  \n",
       "215952                2004                  Too Far  \n",
       "38570                 2002            Little, Brown  \n",
       "70798                 2003                Doubleday  \n",
       "7344                  1997                Perennial  \n",
       "32370                 1998              Picador USA  \n",
       "87397                 2001  Dell Publishing Company  \n",
       "21342                 2003            Penguin Books  \n",
       "145042                1995        Vintage Books USA  \n",
       "133142                2001              Pocket Star  \n",
       "93847                 1998             Warner Books  "
      ]
     },
     "execution_count": 51,
     "metadata": {},
     "output_type": "execute_result"
    }
   ],
   "source": [
    "average_rating.sort_values(\"Rating-Count\",ascending=False).head(10)"
   ]
  },
  {
   "cell_type": "code",
   "execution_count": 51,
   "metadata": {},
   "outputs": [
    {
     "data": {
      "text/plain": [
       "<seaborn.axisgrid.JointGrid at 0x12614f2b0>"
      ]
     },
     "execution_count": 51,
     "metadata": {},
     "output_type": "execute_result"
    },
    {
     "data": {
      "image/png": "[encoded data removed]",
      "text/plain": [
       "<Figure size 432x432 with 3 Axes>"
      ]
     },
     "metadata": {
      "needs_background": "light"
     },
     "output_type": "display_data"
    }
   ],
   "source": [
    "# \"Relationship between the rating and the rating count of books\"\n",
    "sns.jointplot(x='Average-Rating', y='Rating-Count', data=average_rating)"
   ]
  },
  {
   "cell_type": "code",
   "execution_count": 56,
   "metadata": {},
   "outputs": [
    {
     "data": {
      "text/plain": [
       "count    270151.000000\n",
       "mean          3.816888\n",
       "std          13.811690\n",
       "min           1.000000\n",
       "25%           1.000000\n",
       "50%           1.000000\n",
       "75%           3.000000\n",
       "max        2502.000000\n",
       "Name: Rating-Count, dtype: float64"
      ]
     },
     "execution_count": 56,
     "metadata": {},
     "output_type": "execute_result"
    }
   ],
   "source": [
    "average_rating[\"Rating-Count\"].describe()"
   ]
  },
  {
   "cell_type": "code",
   "execution_count": 69,
   "metadata": {},
   "outputs": [
    {
     "data": {
      "text/plain": [
       "count    105283.000000\n",
       "mean         10.920851\n",
       "std          90.562825\n",
       "min           1.000000\n",
       "25%           1.000000\n",
       "50%           1.000000\n",
       "75%           4.000000\n",
       "max       13602.000000\n",
       "Name: User-ID, dtype: float64"
      ]
     },
     "execution_count": 69,
     "metadata": {},
     "output_type": "execute_result"
    }
   ],
   "source": [
    "ratings[\"User-ID\"].value_counts().describe()"
   ]
  },
  {
   "cell_type": "markdown",
   "metadata": {},
   "source": [
    "To ensure statistical significance, users with less than 300 ratings, and books with less than 50 ratings are excluded."
   ]
  },
  {
   "cell_type": "code",
   "execution_count": 70,
   "metadata": {},
   "outputs": [
    {
     "data": {
      "text/html": [
       "<div>\n",
       "<style scoped>\n",
       "    .dataframe tbody tr th:only-of-type {\n",
       "        vertical-align: middle;\n",
       "    }\n",
       "\n",
       "    .dataframe tbody tr th {\n",
       "        vertical-align: top;\n",
       "    }\n",
       "\n",
       "    .dataframe thead th {\n",
       "        text-align: right;\n",
       "    }\n",
       "</style>\n",
       "<table border=\"1\" class=\"dataframe\">\n",
       "  <thead>\n",
       "    <tr style=\"text-align: right;\">\n",
       "      <th></th>\n",
       "      <th>User-ID</th>\n",
       "      <th>ISBN</th>\n",
       "      <th>Book-Rating</th>\n",
       "    </tr>\n",
       "  </thead>\n",
       "  <tbody>\n",
       "    <tr>\n",
       "      <th>1456</th>\n",
       "      <td>277427</td>\n",
       "      <td>002542730X</td>\n",
       "      <td>10</td>\n",
       "    </tr>\n",
       "    <tr>\n",
       "      <th>1457</th>\n",
       "      <td>277427</td>\n",
       "      <td>0026217457</td>\n",
       "      <td>0</td>\n",
       "    </tr>\n",
       "    <tr>\n",
       "      <th>1458</th>\n",
       "      <td>277427</td>\n",
       "      <td>003008685X</td>\n",
       "      <td>8</td>\n",
       "    </tr>\n",
       "    <tr>\n",
       "      <th>1459</th>\n",
       "      <td>277427</td>\n",
       "      <td>0030615321</td>\n",
       "      <td>0</td>\n",
       "    </tr>\n",
       "    <tr>\n",
       "      <th>1460</th>\n",
       "      <td>277427</td>\n",
       "      <td>0060002050</td>\n",
       "      <td>0</td>\n",
       "    </tr>\n",
       "  </tbody>\n",
       "</table>\n",
       "</div>"
      ],
      "text/plain": [
       "      User-ID        ISBN  Book-Rating\n",
       "1456   277427  002542730X           10\n",
       "1457   277427  0026217457            0\n",
       "1458   277427  003008685X            8\n",
       "1459   277427  0030615321            0\n",
       "1460   277427  0060002050            0"
      ]
     },
     "execution_count": 70,
     "metadata": {},
     "output_type": "execute_result"
    }
   ],
   "source": [
    "counts_per_user = ratings[\"User-ID\"].value_counts()\n",
    "# We'll consider ratings comming from users with minimum 300 ratings\n",
    "ratings = ratings[ratings[\"User-ID\"].isin(counts_per_user[counts_per_user >= 300].index)]\n",
    "# We'll consider books with at least 50 ratings\n",
    "counts_per_book = ratings['Book-Rating'].value_counts()\n",
    "ratings = ratings[ratings['Book-Rating'].isin(counts_per_book[counts_per_book >= 50].index)]\n",
    "ratings.head()"
   ]
  },
  {
   "cell_type": "code",
   "execution_count": 71,
   "metadata": {},
   "outputs": [
    {
     "name": "stdout",
     "output_type": "stream",
     "text": [
      "(561, 187297)\n"
     ]
    },
    {
     "data": {
      "text/html": [
       "<div>\n",
       "<style scoped>\n",
       "    .dataframe tbody tr th:only-of-type {\n",
       "        vertical-align: middle;\n",
       "    }\n",
       "\n",
       "    .dataframe tbody tr th {\n",
       "        vertical-align: top;\n",
       "    }\n",
       "\n",
       "    .dataframe thead th {\n",
       "        text-align: right;\n",
       "    }\n",
       "</style>\n",
       "<table border=\"1\" class=\"dataframe\">\n",
       "  <thead>\n",
       "    <tr style=\"text-align: right;\">\n",
       "      <th>ISBN</th>\n",
       "      <th>0375404120</th>\n",
       "      <th>9022906116</th>\n",
       "      <th>*0515128325</th>\n",
       "      <th>+0451197399</th>\n",
       "      <th>0 00 612183 7</th>\n",
       "      <th>0 00 614494 2</th>\n",
       "      <th>0 7336 1053 6</th>\n",
       "      <th>0 907 062 008</th>\n",
       "      <th>0*708880258</th>\n",
       "      <th>0.330241664</th>\n",
       "      <th>...</th>\n",
       "      <th>THEFLYINGACE</th>\n",
       "      <th>X000000000</th>\n",
       "      <th>YOUTELLEM,AND</th>\n",
       "      <th>ZR903CX0003</th>\n",
       "      <th>\\0432534220\\\"\"</th>\n",
       "      <th>\\2842053052\\\"\"</th>\n",
       "      <th>b00005wz75</th>\n",
       "      <th>cn108465</th>\n",
       "      <th>cn113107</th>\n",
       "      <th>Ô½crosoft</th>\n",
       "    </tr>\n",
       "    <tr>\n",
       "      <th>User-ID</th>\n",
       "      <th></th>\n",
       "      <th></th>\n",
       "      <th></th>\n",
       "      <th></th>\n",
       "      <th></th>\n",
       "      <th></th>\n",
       "      <th></th>\n",
       "      <th></th>\n",
       "      <th></th>\n",
       "      <th></th>\n",
       "      <th></th>\n",
       "      <th></th>\n",
       "      <th></th>\n",
       "      <th></th>\n",
       "      <th></th>\n",
       "      <th></th>\n",
       "      <th></th>\n",
       "      <th></th>\n",
       "      <th></th>\n",
       "      <th></th>\n",
       "      <th></th>\n",
       "    </tr>\n",
       "  </thead>\n",
       "  <tbody>\n",
       "    <tr>\n",
       "      <th>254</th>\n",
       "      <td>NaN</td>\n",
       "      <td>NaN</td>\n",
       "      <td>NaN</td>\n",
       "      <td>NaN</td>\n",
       "      <td>NaN</td>\n",
       "      <td>NaN</td>\n",
       "      <td>NaN</td>\n",
       "      <td>NaN</td>\n",
       "      <td>NaN</td>\n",
       "      <td>NaN</td>\n",
       "      <td>...</td>\n",
       "      <td>NaN</td>\n",
       "      <td>NaN</td>\n",
       "      <td>NaN</td>\n",
       "      <td>NaN</td>\n",
       "      <td>NaN</td>\n",
       "      <td>NaN</td>\n",
       "      <td>NaN</td>\n",
       "      <td>NaN</td>\n",
       "      <td>NaN</td>\n",
       "      <td>NaN</td>\n",
       "    </tr>\n",
       "    <tr>\n",
       "      <th>2276</th>\n",
       "      <td>NaN</td>\n",
       "      <td>NaN</td>\n",
       "      <td>NaN</td>\n",
       "      <td>NaN</td>\n",
       "      <td>NaN</td>\n",
       "      <td>NaN</td>\n",
       "      <td>NaN</td>\n",
       "      <td>NaN</td>\n",
       "      <td>NaN</td>\n",
       "      <td>NaN</td>\n",
       "      <td>...</td>\n",
       "      <td>NaN</td>\n",
       "      <td>NaN</td>\n",
       "      <td>NaN</td>\n",
       "      <td>NaN</td>\n",
       "      <td>NaN</td>\n",
       "      <td>NaN</td>\n",
       "      <td>NaN</td>\n",
       "      <td>NaN</td>\n",
       "      <td>NaN</td>\n",
       "      <td>NaN</td>\n",
       "    </tr>\n",
       "    <tr>\n",
       "      <th>3363</th>\n",
       "      <td>NaN</td>\n",
       "      <td>NaN</td>\n",
       "      <td>NaN</td>\n",
       "      <td>NaN</td>\n",
       "      <td>NaN</td>\n",
       "      <td>NaN</td>\n",
       "      <td>NaN</td>\n",
       "      <td>NaN</td>\n",
       "      <td>NaN</td>\n",
       "      <td>NaN</td>\n",
       "      <td>...</td>\n",
       "      <td>NaN</td>\n",
       "      <td>NaN</td>\n",
       "      <td>NaN</td>\n",
       "      <td>NaN</td>\n",
       "      <td>NaN</td>\n",
       "      <td>NaN</td>\n",
       "      <td>NaN</td>\n",
       "      <td>NaN</td>\n",
       "      <td>NaN</td>\n",
       "      <td>NaN</td>\n",
       "    </tr>\n",
       "    <tr>\n",
       "      <th>3757</th>\n",
       "      <td>NaN</td>\n",
       "      <td>NaN</td>\n",
       "      <td>NaN</td>\n",
       "      <td>NaN</td>\n",
       "      <td>NaN</td>\n",
       "      <td>NaN</td>\n",
       "      <td>NaN</td>\n",
       "      <td>NaN</td>\n",
       "      <td>NaN</td>\n",
       "      <td>NaN</td>\n",
       "      <td>...</td>\n",
       "      <td>NaN</td>\n",
       "      <td>NaN</td>\n",
       "      <td>NaN</td>\n",
       "      <td>NaN</td>\n",
       "      <td>NaN</td>\n",
       "      <td>NaN</td>\n",
       "      <td>NaN</td>\n",
       "      <td>NaN</td>\n",
       "      <td>NaN</td>\n",
       "      <td>NaN</td>\n",
       "    </tr>\n",
       "    <tr>\n",
       "      <th>4385</th>\n",
       "      <td>NaN</td>\n",
       "      <td>NaN</td>\n",
       "      <td>NaN</td>\n",
       "      <td>NaN</td>\n",
       "      <td>NaN</td>\n",
       "      <td>NaN</td>\n",
       "      <td>NaN</td>\n",
       "      <td>NaN</td>\n",
       "      <td>NaN</td>\n",
       "      <td>NaN</td>\n",
       "      <td>...</td>\n",
       "      <td>NaN</td>\n",
       "      <td>NaN</td>\n",
       "      <td>NaN</td>\n",
       "      <td>NaN</td>\n",
       "      <td>NaN</td>\n",
       "      <td>NaN</td>\n",
       "      <td>NaN</td>\n",
       "      <td>NaN</td>\n",
       "      <td>NaN</td>\n",
       "      <td>NaN</td>\n",
       "    </tr>\n",
       "  </tbody>\n",
       "</table>\n",
       "<p>5 rows × 187297 columns</p>\n",
       "</div>"
      ],
      "text/plain": [
       "ISBN      0375404120   9022906116  *0515128325  +0451197399  0 00 612183 7  \\\n",
       "User-ID                                                                      \n",
       "254              NaN          NaN          NaN          NaN            NaN   \n",
       "2276             NaN          NaN          NaN          NaN            NaN   \n",
       "3363             NaN          NaN          NaN          NaN            NaN   \n",
       "3757             NaN          NaN          NaN          NaN            NaN   \n",
       "4385             NaN          NaN          NaN          NaN            NaN   \n",
       "\n",
       "ISBN     0 00 614494 2  0 7336 1053 6  0 907 062 008  0*708880258  \\\n",
       "User-ID                                                             \n",
       "254                NaN            NaN            NaN          NaN   \n",
       "2276               NaN            NaN            NaN          NaN   \n",
       "3363               NaN            NaN            NaN          NaN   \n",
       "3757               NaN            NaN            NaN          NaN   \n",
       "4385               NaN            NaN            NaN          NaN   \n",
       "\n",
       "ISBN     0.330241664  ...  THEFLYINGACE  X000000000  YOUTELLEM,AND  \\\n",
       "User-ID               ...                                            \n",
       "254              NaN  ...           NaN         NaN            NaN   \n",
       "2276             NaN  ...           NaN         NaN            NaN   \n",
       "3363             NaN  ...           NaN         NaN            NaN   \n",
       "3757             NaN  ...           NaN         NaN            NaN   \n",
       "4385             NaN  ...           NaN         NaN            NaN   \n",
       "\n",
       "ISBN     ZR903CX0003  \\0432534220\\\"\"  \\2842053052\\\"\"  b00005wz75  cn108465  \\\n",
       "User-ID                                                                      \n",
       "254              NaN             NaN             NaN         NaN       NaN   \n",
       "2276             NaN             NaN             NaN         NaN       NaN   \n",
       "3363             NaN             NaN             NaN         NaN       NaN   \n",
       "3757             NaN             NaN             NaN         NaN       NaN   \n",
       "4385             NaN             NaN             NaN         NaN       NaN   \n",
       "\n",
       "ISBN     cn113107  Ô½crosoft  \n",
       "User-ID                       \n",
       "254           NaN        NaN  \n",
       "2276          NaN        NaN  \n",
       "3363          NaN        NaN  \n",
       "3757          NaN        NaN  \n",
       "4385          NaN        NaN  \n",
       "\n",
       "[5 rows x 187297 columns]"
      ]
     },
     "execution_count": 71,
     "metadata": {},
     "output_type": "execute_result"
    }
   ],
   "source": [
    "ratings_pivot = ratings.pivot(index='User-ID', columns='ISBN')[\"Book-Rating\"]\n",
    "userID = ratings_pivot.index\n",
    "ISBN = ratings_pivot.columns\n",
    "print(ratings_pivot.shape)\n",
    "ratings_pivot.head()"
   ]
  },
  {
   "cell_type": "code",
   "execution_count": 74,
   "metadata": {},
   "outputs": [],
   "source": [
    "def recommender_correlation(isbn):\n",
    "    book_ratings = ratings_pivot[isbn].dropna()\n",
    "    similar_books = ratings_pivot.corrwith(book_ratings)\n",
    "    corr_book = pd.DataFrame({\"ISBN\":similar_books.index, \"pearsonR\":similar_books.values})\n",
    "    corr_book.dropna(inplace=True)\n",
    "    corr_summary = pd.merge(corr_book,average_rating,on=\"ISBN\")\n",
    "    print(\"If you are reading {}, we recommend you the following books:\".format((\n",
    "        average_rating.loc[average_rating[\"ISBN\"] == isbn][\"Book-Title\"]).values[0]))\n",
    "    return corr_summary[corr_summary['Rating-Count']>=200].sort_values('pearsonR', ascending=False).head(5)\n"
   ]
  },
  {
   "cell_type": "code",
   "execution_count": 75,
   "metadata": {},
   "outputs": [
    {
     "name": "stdout",
     "output_type": "stream",
     "text": [
      "If you are reading The Da Vinci Code, we recommend you the following books:\n"
     ]
    },
    {
     "data": {
      "text/html": [
       "<div>\n",
       "<style scoped>\n",
       "    .dataframe tbody tr th:only-of-type {\n",
       "        vertical-align: middle;\n",
       "    }\n",
       "\n",
       "    .dataframe tbody tr th {\n",
       "        vertical-align: top;\n",
       "    }\n",
       "\n",
       "    .dataframe thead th {\n",
       "        text-align: right;\n",
       "    }\n",
       "</style>\n",
       "<table border=\"1\" class=\"dataframe\">\n",
       "  <thead>\n",
       "    <tr style=\"text-align: right;\">\n",
       "      <th></th>\n",
       "      <th>ISBN</th>\n",
       "      <th>pearsonR</th>\n",
       "      <th>Average-Rating</th>\n",
       "      <th>Rating-Count</th>\n",
       "      <th>Book-Title</th>\n",
       "      <th>Book-Author</th>\n",
       "      <th>Year-Of-Publication</th>\n",
       "      <th>Publisher</th>\n",
       "    </tr>\n",
       "  </thead>\n",
       "  <tbody>\n",
       "    <tr>\n",
       "      <th>3388</th>\n",
       "      <td>0385504209</td>\n",
       "      <td>1.000000</td>\n",
       "      <td>4.652322</td>\n",
       "      <td>883</td>\n",
       "      <td>The Da Vinci Code</td>\n",
       "      <td>Dan Brown</td>\n",
       "      <td>2003</td>\n",
       "      <td>Doubleday</td>\n",
       "    </tr>\n",
       "    <tr>\n",
       "      <th>408</th>\n",
       "      <td>0060987561</td>\n",
       "      <td>0.570940</td>\n",
       "      <td>3.210744</td>\n",
       "      <td>242</td>\n",
       "      <td>I Know This Much Is True</td>\n",
       "      <td>Wally Lamb</td>\n",
       "      <td>1999</td>\n",
       "      <td>Regan Books</td>\n",
       "    </tr>\n",
       "    <tr>\n",
       "      <th>4794</th>\n",
       "      <td>044651652X</td>\n",
       "      <td>0.525504</td>\n",
       "      <td>3.100543</td>\n",
       "      <td>368</td>\n",
       "      <td>The Bridges of Madison County</td>\n",
       "      <td>Robert James Waller</td>\n",
       "      <td>1992</td>\n",
       "      <td>Warner Books</td>\n",
       "    </tr>\n",
       "    <tr>\n",
       "      <th>1501</th>\n",
       "      <td>0312995423</td>\n",
       "      <td>0.507642</td>\n",
       "      <td>3.419512</td>\n",
       "      <td>205</td>\n",
       "      <td>Digital Fortress : A Thriller</td>\n",
       "      <td>Dan Brown</td>\n",
       "      <td>2003</td>\n",
       "      <td>St. Martin's Press</td>\n",
       "    </tr>\n",
       "    <tr>\n",
       "      <th>8581</th>\n",
       "      <td>0767902521</td>\n",
       "      <td>0.484285</td>\n",
       "      <td>4.243902</td>\n",
       "      <td>205</td>\n",
       "      <td>A Walk in the Woods: Rediscovering America on ...</td>\n",
       "      <td>Bill Bryson</td>\n",
       "      <td>1999</td>\n",
       "      <td>Broadway Books</td>\n",
       "    </tr>\n",
       "  </tbody>\n",
       "</table>\n",
       "</div>"
      ],
      "text/plain": [
       "            ISBN  pearsonR  Average-Rating  Rating-Count  \\\n",
       "3388  0385504209  1.000000        4.652322           883   \n",
       "408   0060987561  0.570940        3.210744           242   \n",
       "4794  044651652X  0.525504        3.100543           368   \n",
       "1501  0312995423  0.507642        3.419512           205   \n",
       "8581  0767902521  0.484285        4.243902           205   \n",
       "\n",
       "                                             Book-Title          Book-Author  \\\n",
       "3388                                  The Da Vinci Code            Dan Brown   \n",
       "408                            I Know This Much Is True           Wally Lamb   \n",
       "4794                      The Bridges of Madison County  Robert James Waller   \n",
       "1501                      Digital Fortress : A Thriller            Dan Brown   \n",
       "8581  A Walk in the Woods: Rediscovering America on ...          Bill Bryson   \n",
       "\n",
       "     Year-Of-Publication           Publisher  \n",
       "3388                2003           Doubleday  \n",
       "408                 1999         Regan Books  \n",
       "4794                1992        Warner Books  \n",
       "1501                2003  St. Martin's Press  \n",
       "8581                1999      Broadway Books  "
      ]
     },
     "execution_count": 75,
     "metadata": {},
     "output_type": "execute_result"
    }
   ],
   "source": [
    "recommender_correlation(\"0385504209\")"
   ]
  },
  {
   "cell_type": "code",
   "execution_count": null,
   "metadata": {},
   "outputs": [],
   "source": []
  }
 ],
 "metadata": {
  "kernelspec": {
   "display_name": "Python 3",
   "language": "python",
   "name": "python3"
  },
  "language_info": {
   "codemirror_mode": {
    "name": "ipython",
    "version": 3
   },
   "file_extension": ".py",
   "mimetype": "text/x-python",
   "name": "python",
   "nbconvert_exporter": "python",
   "pygments_lexer": "ipython3",
   "version": "3.6.4"
  }
 },
 "nbformat": 4,
 "nbformat_minor": 4
}
